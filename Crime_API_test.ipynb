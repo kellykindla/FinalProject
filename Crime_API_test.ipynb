{
 "cells": [
  {
   "cell_type": "code",
   "execution_count": 1,
   "id": "bd918289",
   "metadata": {},
   "outputs": [],
   "source": [
    "#import necessary dependencies \n",
    "import pandas as pd\n",
    "import numpy as np\n",
    "import requests\n",
    "from sodapy import Socrata\n"
   ]
  },
  {
   "cell_type": "code",
   "execution_count": 17,
   "id": "f1eff218",
   "metadata": {},
   "outputs": [
    {
     "name": "stderr",
     "output_type": "stream",
     "text": [
      "WARNING:root:Requests made without an app_token will be subject to strict throttling limits.\n"
     ]
    }
   ],
   "source": [
    "# Unauthenticated client only works with public data sets. Note 'None'\n",
    "# in place of application token, and no username or password:\n",
    "client = Socrata(\"data.austintexas.gov\", None)\n",
    "\n",
    "# First 2000 results, returned as JSON from API / converted to Python list of\n",
    "# dictionaries by sodapy.\n",
    "#Runs fast if you just get a sample of 2000, I tried using \"get_all\" instead of \"get\" and removing the limit,\n",
    "#but after 30 minutes it still had not finished. Probably best to just download the crime data. \n",
    "results = client.get(\"fdj4-gpfu\", limit=2000)\n",
    "\n",
    "# Convert to pandas DataFrame\n",
    "data = pd.DataFrame.from_records(results)"
   ]
  },
  {
   "cell_type": "code",
   "execution_count": 12,
   "id": "f6ed2eb8",
   "metadata": {},
   "outputs": [
    {
     "data": {
      "text/plain": [
       "(2000, 31)"
      ]
     },
     "execution_count": 12,
     "metadata": {},
     "output_type": "execute_result"
    }
   ],
   "source": [
    "#read in csv \n",
    "data.shape"
   ]
  },
  {
   "cell_type": "code",
   "execution_count": null,
   "id": "48d56724",
   "metadata": {},
   "outputs": [
    {
     "data": {
      "text/html": [
       "<div>\n",
       "<style scoped>\n",
       "    .dataframe tbody tr th:only-of-type {\n",
       "        vertical-align: middle;\n",
       "    }\n",
       "\n",
       "    .dataframe tbody tr th {\n",
       "        vertical-align: top;\n",
       "    }\n",
       "\n",
       "    .dataframe thead th {\n",
       "        text-align: right;\n",
       "    }\n",
       "</style>\n",
       "<table border=\"1\" class=\"dataframe\">\n",
       "  <thead>\n",
       "    <tr style=\"text-align: right;\">\n",
       "      <th></th>\n",
       "      <th>Incident Number</th>\n",
       "      <th>Highest Offense Description</th>\n",
       "      <th>Highest Offense Code</th>\n",
       "      <th>Family Violence</th>\n",
       "      <th>Occurred Date Time</th>\n",
       "      <th>Occurred Date</th>\n",
       "      <th>Occurred Time</th>\n",
       "      <th>Report Date Time</th>\n",
       "      <th>Report Date</th>\n",
       "      <th>Report Time</th>\n",
       "      <th>...</th>\n",
       "      <th>Census Tract</th>\n",
       "      <th>Clearance Status</th>\n",
       "      <th>Clearance Date</th>\n",
       "      <th>UCR Category</th>\n",
       "      <th>Category Description</th>\n",
       "      <th>X-coordinate</th>\n",
       "      <th>Y-coordinate</th>\n",
       "      <th>Latitude</th>\n",
       "      <th>Longitude</th>\n",
       "      <th>Location</th>\n",
       "    </tr>\n",
       "  </thead>\n",
       "  <tbody>\n",
       "    <tr>\n",
       "      <th>658251</th>\n",
       "      <td>20063610581</td>\n",
       "      <td>THEFT</td>\n",
       "      <td>600</td>\n",
       "      <td>N</td>\n",
       "      <td>12/27/2006 10:20:00 AM</td>\n",
       "      <td>12/27/2006</td>\n",
       "      <td>1020.0</td>\n",
       "      <td>12/27/2006 10:27:00 AM</td>\n",
       "      <td>12/27/2006</td>\n",
       "      <td>1027.0</td>\n",
       "      <td>...</td>\n",
       "      <td>8.00</td>\n",
       "      <td>NaN</td>\n",
       "      <td>05/24/2007</td>\n",
       "      <td>23H</td>\n",
       "      <td>Theft</td>\n",
       "      <td>3117639.0</td>\n",
       "      <td>3117639.0</td>\n",
       "      <td>30.271098</td>\n",
       "      <td>-97.732186</td>\n",
       "      <td>(30.27109764, -97.73218643)</td>\n",
       "    </tr>\n",
       "    <tr>\n",
       "      <th>1590250</th>\n",
       "      <td>2007210432</td>\n",
       "      <td>THEFT</td>\n",
       "      <td>600</td>\n",
       "      <td>N</td>\n",
       "      <td>01/21/2007 04:23:00 AM</td>\n",
       "      <td>01/21/2007</td>\n",
       "      <td>423.0</td>\n",
       "      <td>01/21/2007 04:23:00 AM</td>\n",
       "      <td>01/21/2007</td>\n",
       "      <td>423.0</td>\n",
       "      <td>...</td>\n",
       "      <td>13.00</td>\n",
       "      <td>C</td>\n",
       "      <td>01/27/2007</td>\n",
       "      <td>23H</td>\n",
       "      <td>Theft</td>\n",
       "      <td>3105949.0</td>\n",
       "      <td>3105949.0</td>\n",
       "      <td>30.227483</td>\n",
       "      <td>-97.770385</td>\n",
       "      <td>(30.22748277, -97.77038546)</td>\n",
       "    </tr>\n",
       "    <tr>\n",
       "      <th>993231</th>\n",
       "      <td>2017311292</td>\n",
       "      <td>CRIMINAL TRESPASS</td>\n",
       "      <td>2716</td>\n",
       "      <td>N</td>\n",
       "      <td>01/31/2017 04:11:00 PM</td>\n",
       "      <td>01/31/2017</td>\n",
       "      <td>1611.0</td>\n",
       "      <td>01/31/2017 04:11:00 PM</td>\n",
       "      <td>01/31/2017</td>\n",
       "      <td>1611.0</td>\n",
       "      <td>...</td>\n",
       "      <td>12.00</td>\n",
       "      <td>NaN</td>\n",
       "      <td>NaN</td>\n",
       "      <td>NaN</td>\n",
       "      <td>NaN</td>\n",
       "      <td>3109626.0</td>\n",
       "      <td>3109626.0</td>\n",
       "      <td>30.275222</td>\n",
       "      <td>-97.757467</td>\n",
       "      <td>(30.27522226, -97.75746653)</td>\n",
       "    </tr>\n",
       "    <tr>\n",
       "      <th>2089381</th>\n",
       "      <td>2019671420</td>\n",
       "      <td>CRIMINAL TRESPASS</td>\n",
       "      <td>2716</td>\n",
       "      <td>N</td>\n",
       "      <td>03/08/2019 04:22:00 PM</td>\n",
       "      <td>03/08/2019</td>\n",
       "      <td>1622.0</td>\n",
       "      <td>03/08/2019 04:22:00 PM</td>\n",
       "      <td>03/08/2019</td>\n",
       "      <td>1622.0</td>\n",
       "      <td>...</td>\n",
       "      <td>21.12</td>\n",
       "      <td>C</td>\n",
       "      <td>03/12/2019</td>\n",
       "      <td>NaN</td>\n",
       "      <td>NaN</td>\n",
       "      <td>3133344.0</td>\n",
       "      <td>3133344.0</td>\n",
       "      <td>30.305167</td>\n",
       "      <td>-97.681487</td>\n",
       "      <td>(30.30516695, -97.68148699)</td>\n",
       "    </tr>\n",
       "    <tr>\n",
       "      <th>1968859</th>\n",
       "      <td>20065007037</td>\n",
       "      <td>BURGLARY OF VEHICLE</td>\n",
       "      <td>601</td>\n",
       "      <td>N</td>\n",
       "      <td>02/07/2006 07:30:00 PM</td>\n",
       "      <td>02/07/2006</td>\n",
       "      <td>1930.0</td>\n",
       "      <td>02/07/2006 10:39:00 PM</td>\n",
       "      <td>02/07/2006</td>\n",
       "      <td>2239.0</td>\n",
       "      <td>...</td>\n",
       "      <td>11.00</td>\n",
       "      <td>NaN</td>\n",
       "      <td>05/12/2006</td>\n",
       "      <td>23F</td>\n",
       "      <td>Theft</td>\n",
       "      <td>3112462.0</td>\n",
       "      <td>3112462.0</td>\n",
       "      <td>30.265594</td>\n",
       "      <td>-97.748738</td>\n",
       "      <td>(30.26559361, -97.74873775)</td>\n",
       "    </tr>\n",
       "    <tr>\n",
       "      <th>200289</th>\n",
       "      <td>20102531740</td>\n",
       "      <td>RUNAWAY CHILD</td>\n",
       "      <td>4100</td>\n",
       "      <td>N</td>\n",
       "      <td>09/10/2010 05:45:00 PM</td>\n",
       "      <td>09/10/2010</td>\n",
       "      <td>1745.0</td>\n",
       "      <td>09/10/2010 05:45:00 PM</td>\n",
       "      <td>09/10/2010</td>\n",
       "      <td>1745.0</td>\n",
       "      <td>...</td>\n",
       "      <td>24.12</td>\n",
       "      <td>N</td>\n",
       "      <td>09/13/2010</td>\n",
       "      <td>NaN</td>\n",
       "      <td>NaN</td>\n",
       "      <td>3113763.0</td>\n",
       "      <td>3113763.0</td>\n",
       "      <td>30.187490</td>\n",
       "      <td>-97.746708</td>\n",
       "      <td>(30.18749017, -97.74670817)</td>\n",
       "    </tr>\n",
       "    <tr>\n",
       "      <th>623271</th>\n",
       "      <td>20052361086</td>\n",
       "      <td>AUTO THEFT</td>\n",
       "      <td>700</td>\n",
       "      <td>N</td>\n",
       "      <td>08/14/2005 01:00:00 PM</td>\n",
       "      <td>08/14/2005</td>\n",
       "      <td>1300.0</td>\n",
       "      <td>08/24/2005 01:56:00 PM</td>\n",
       "      <td>08/24/2005</td>\n",
       "      <td>1356.0</td>\n",
       "      <td>...</td>\n",
       "      <td>3.00</td>\n",
       "      <td>C</td>\n",
       "      <td>09/02/2005</td>\n",
       "      <td>240</td>\n",
       "      <td>Auto Theft</td>\n",
       "      <td>3124212.0</td>\n",
       "      <td>3124212.0</td>\n",
       "      <td>30.311194</td>\n",
       "      <td>-97.710270</td>\n",
       "      <td>(30.3111939, -97.71026952)</td>\n",
       "    </tr>\n",
       "    <tr>\n",
       "      <th>629681</th>\n",
       "      <td>20185024708</td>\n",
       "      <td>THEFT</td>\n",
       "      <td>600</td>\n",
       "      <td>N</td>\n",
       "      <td>06/30/2018 11:10:00 AM</td>\n",
       "      <td>06/30/2018</td>\n",
       "      <td>1110.0</td>\n",
       "      <td>06/30/2018 11:10:00 AM</td>\n",
       "      <td>06/30/2018</td>\n",
       "      <td>1110.0</td>\n",
       "      <td>...</td>\n",
       "      <td>23.00</td>\n",
       "      <td>N</td>\n",
       "      <td>07/10/2018</td>\n",
       "      <td>23H</td>\n",
       "      <td>Theft</td>\n",
       "      <td>3117278.0</td>\n",
       "      <td>3117278.0</td>\n",
       "      <td>30.248501</td>\n",
       "      <td>-97.733939</td>\n",
       "      <td>(30.24850066, -97.73393875)</td>\n",
       "    </tr>\n",
       "    <tr>\n",
       "      <th>498599</th>\n",
       "      <td>20212610502</td>\n",
       "      <td>AUTO THEFT</td>\n",
       "      <td>700</td>\n",
       "      <td>N</td>\n",
       "      <td>09/17/2021 11:30:00 PM</td>\n",
       "      <td>09/17/2021</td>\n",
       "      <td>2330.0</td>\n",
       "      <td>09/18/2021 08:51:00 AM</td>\n",
       "      <td>09/18/2021</td>\n",
       "      <td>851.0</td>\n",
       "      <td>...</td>\n",
       "      <td>330.00</td>\n",
       "      <td>N</td>\n",
       "      <td>09/21/2021</td>\n",
       "      <td>240</td>\n",
       "      <td>Auto Theft</td>\n",
       "      <td>3068306.0</td>\n",
       "      <td>3068306.0</td>\n",
       "      <td>30.230774</td>\n",
       "      <td>-97.889523</td>\n",
       "      <td>(30.23077391, -97.88952263)</td>\n",
       "    </tr>\n",
       "    <tr>\n",
       "      <th>891524</th>\n",
       "      <td>20192451722</td>\n",
       "      <td>BURGLARY OF VEHICLE</td>\n",
       "      <td>601</td>\n",
       "      <td>N</td>\n",
       "      <td>09/02/2019 10:37:00 PM</td>\n",
       "      <td>09/02/2019</td>\n",
       "      <td>2237.0</td>\n",
       "      <td>09/02/2019 10:37:00 PM</td>\n",
       "      <td>09/02/2019</td>\n",
       "      <td>2237.0</td>\n",
       "      <td>...</td>\n",
       "      <td>16.00</td>\n",
       "      <td>N</td>\n",
       "      <td>09/23/2019</td>\n",
       "      <td>23F</td>\n",
       "      <td>Theft</td>\n",
       "      <td>3111366.0</td>\n",
       "      <td>3111366.0</td>\n",
       "      <td>30.303317</td>\n",
       "      <td>-97.751201</td>\n",
       "      <td>(30.30331736, -97.75120142)</td>\n",
       "    </tr>\n",
       "  </tbody>\n",
       "</table>\n",
       "<p>10 rows × 27 columns</p>\n",
       "</div>"
      ],
      "text/plain": [
       "         Incident Number Highest Offense Description  Highest Offense Code  \\\n",
       "658251       20063610581                       THEFT                   600   \n",
       "1590250       2007210432                       THEFT                   600   \n",
       "993231        2017311292           CRIMINAL TRESPASS                  2716   \n",
       "2089381       2019671420           CRIMINAL TRESPASS                  2716   \n",
       "1968859      20065007037         BURGLARY OF VEHICLE                   601   \n",
       "200289       20102531740               RUNAWAY CHILD                  4100   \n",
       "623271       20052361086                  AUTO THEFT                   700   \n",
       "629681       20185024708                       THEFT                   600   \n",
       "498599       20212610502                  AUTO THEFT                   700   \n",
       "891524       20192451722         BURGLARY OF VEHICLE                   601   \n",
       "\n",
       "        Family Violence      Occurred Date Time Occurred Date  Occurred Time  \\\n",
       "658251                N  12/27/2006 10:20:00 AM    12/27/2006         1020.0   \n",
       "1590250               N  01/21/2007 04:23:00 AM    01/21/2007          423.0   \n",
       "993231                N  01/31/2017 04:11:00 PM    01/31/2017         1611.0   \n",
       "2089381               N  03/08/2019 04:22:00 PM    03/08/2019         1622.0   \n",
       "1968859               N  02/07/2006 07:30:00 PM    02/07/2006         1930.0   \n",
       "200289                N  09/10/2010 05:45:00 PM    09/10/2010         1745.0   \n",
       "623271                N  08/14/2005 01:00:00 PM    08/14/2005         1300.0   \n",
       "629681                N  06/30/2018 11:10:00 AM    06/30/2018         1110.0   \n",
       "498599                N  09/17/2021 11:30:00 PM    09/17/2021         2330.0   \n",
       "891524                N  09/02/2019 10:37:00 PM    09/02/2019         2237.0   \n",
       "\n",
       "               Report Date Time Report Date  Report Time  ... Census Tract  \\\n",
       "658251   12/27/2006 10:27:00 AM  12/27/2006       1027.0  ...         8.00   \n",
       "1590250  01/21/2007 04:23:00 AM  01/21/2007        423.0  ...        13.00   \n",
       "993231   01/31/2017 04:11:00 PM  01/31/2017       1611.0  ...        12.00   \n",
       "2089381  03/08/2019 04:22:00 PM  03/08/2019       1622.0  ...        21.12   \n",
       "1968859  02/07/2006 10:39:00 PM  02/07/2006       2239.0  ...        11.00   \n",
       "200289   09/10/2010 05:45:00 PM  09/10/2010       1745.0  ...        24.12   \n",
       "623271   08/24/2005 01:56:00 PM  08/24/2005       1356.0  ...         3.00   \n",
       "629681   06/30/2018 11:10:00 AM  06/30/2018       1110.0  ...        23.00   \n",
       "498599   09/18/2021 08:51:00 AM  09/18/2021        851.0  ...       330.00   \n",
       "891524   09/02/2019 10:37:00 PM  09/02/2019       2237.0  ...        16.00   \n",
       "\n",
       "        Clearance Status  Clearance Date  UCR Category Category Description  \\\n",
       "658251               NaN      05/24/2007           23H                Theft   \n",
       "1590250                C      01/27/2007           23H                Theft   \n",
       "993231               NaN             NaN           NaN                  NaN   \n",
       "2089381                C      03/12/2019           NaN                  NaN   \n",
       "1968859              NaN      05/12/2006           23F                Theft   \n",
       "200289                 N      09/13/2010           NaN                  NaN   \n",
       "623271                 C      09/02/2005           240           Auto Theft   \n",
       "629681                 N      07/10/2018           23H                Theft   \n",
       "498599                 N      09/21/2021           240           Auto Theft   \n",
       "891524                 N      09/23/2019           23F                Theft   \n",
       "\n",
       "        X-coordinate Y-coordinate   Latitude  Longitude  \\\n",
       "658251     3117639.0    3117639.0  30.271098 -97.732186   \n",
       "1590250    3105949.0    3105949.0  30.227483 -97.770385   \n",
       "993231     3109626.0    3109626.0  30.275222 -97.757467   \n",
       "2089381    3133344.0    3133344.0  30.305167 -97.681487   \n",
       "1968859    3112462.0    3112462.0  30.265594 -97.748738   \n",
       "200289     3113763.0    3113763.0  30.187490 -97.746708   \n",
       "623271     3124212.0    3124212.0  30.311194 -97.710270   \n",
       "629681     3117278.0    3117278.0  30.248501 -97.733939   \n",
       "498599     3068306.0    3068306.0  30.230774 -97.889523   \n",
       "891524     3111366.0    3111366.0  30.303317 -97.751201   \n",
       "\n",
       "                            Location  \n",
       "658251   (30.27109764, -97.73218643)  \n",
       "1590250  (30.22748277, -97.77038546)  \n",
       "993231   (30.27522226, -97.75746653)  \n",
       "2089381  (30.30516695, -97.68148699)  \n",
       "1968859  (30.26559361, -97.74873775)  \n",
       "200289   (30.18749017, -97.74670817)  \n",
       "623271    (30.3111939, -97.71026952)  \n",
       "629681   (30.24850066, -97.73393875)  \n",
       "498599   (30.23077391, -97.88952263)  \n",
       "891524   (30.30331736, -97.75120142)  \n",
       "\n",
       "[10 rows x 27 columns]"
      ]
     },
     "execution_count": 50,
     "metadata": {},
     "output_type": "execute_result"
    }
   ],
   "source": [
    "#code to view all rows\n",
    "pd.set_option(\"display.max_rows\", None)\n",
    "#removing spaces in column names \n",
    "data.columns = data.columns.str.replace(' ','_')\n",
    "#preview data\n",
    "data.sample(5)"
   ]
  },
  {
   "cell_type": "code",
   "execution_count": null,
   "id": "f2807573",
   "metadata": {},
   "outputs": [
    {
     "data": {
      "text/plain": [
       "Incident Number                  int64\n",
       "Highest Offense Description     object\n",
       "Highest Offense Code             int64\n",
       "Family Violence                 object\n",
       "Occurred Date Time              object\n",
       "Occurred Date                   object\n",
       "Occurred Time                  float64\n",
       "Report Date Time                object\n",
       "Report Date                     object\n",
       "Report Time                    float64\n",
       "Location Type                   object\n",
       "Address                         object\n",
       "Zip Code                       float64\n",
       "Council District               float64\n",
       "APD Sector                      object\n",
       "APD District                    object\n",
       "PRA                             object\n",
       "Census Tract                   float64\n",
       "Clearance Status                object\n",
       "Clearance Date                  object\n",
       "UCR Category                    object\n",
       "Category Description            object\n",
       "X-coordinate                   float64\n",
       "Y-coordinate                   float64\n",
       "Latitude                       float64\n",
       "Longitude                      float64\n",
       "Location                        object\n",
       "dtype: object"
      ]
     },
     "execution_count": 51,
     "metadata": {},
     "output_type": "execute_result"
    }
   ],
   "source": [
    "#check data types\n",
    "data.dtypes"
   ]
  },
  {
   "cell_type": "code",
   "execution_count": null,
   "id": "8126dba7",
   "metadata": {},
   "outputs": [],
   "source": [
    "#create a year column for occurred date time \n",
    "data['year'] = pd.DatetimeIndex(data['Occurred Date Time']).year"
   ]
  },
  {
   "cell_type": "code",
   "execution_count": null,
   "id": "4b821ed2",
   "metadata": {},
   "outputs": [
    {
     "data": {
      "text/plain": [
       "433"
      ]
     },
     "execution_count": 54,
     "metadata": {},
     "output_type": "execute_result"
    }
   ],
   "source": [
    "#filter dataframe to be between 2018-2021\n",
    "data = data[data['year']>=2018]\n",
    "data = data[data['year']<=2021]"
   ]
  },
  {
   "cell_type": "code",
   "execution_count": null,
   "id": "65b123dd",
   "metadata": {},
   "outputs": [],
   "source": [
    "#how many unique values are there in highest offense description?\n",
    "data['Highest Offense Description'].nunique()"
   ]
  },
  {
   "cell_type": "code",
   "execution_count": null,
   "id": "583f38b6",
   "metadata": {},
   "outputs": [],
   "source": [
    "#check value counts for each column\n",
    "data['Highest Offense Description'].value_counts()"
   ]
  },
  {
   "cell_type": "code",
   "execution_count": null,
   "id": "664e5cae",
   "metadata": {},
   "outputs": [
    {
     "data": {
      "text/plain": [
       "Incident Number                     0\n",
       "Highest Offense Description         0\n",
       "Highest Offense Code                0\n",
       "Family Violence                     0\n",
       "Occurred Date Time                  0\n",
       "Occurred Date                       0\n",
       "Occurred Time                       0\n",
       "Report Date Time                    0\n",
       "Report Date                         0\n",
       "Report Time                         0\n",
       "Location Type                    1127\n",
       "Address                             0\n",
       "Zip Code                         2682\n",
       "Council District                 4472\n",
       "APD Sector                       1692\n",
       "APD District                     1775\n",
       "PRA                              2187\n",
       "Census Tract                     3747\n",
       "Clearance Status                47729\n",
       "Clearance Date                  47739\n",
       "UCR Category                   249545\n",
       "Category Description           249545\n",
       "X-coordinate                     2080\n",
       "Y-coordinate                     2080\n",
       "Latitude                         7493\n",
       "Longitude                        7493\n",
       "Location                         7493\n",
       "year                                0\n",
       "dtype: int64"
      ]
     },
     "execution_count": 61,
     "metadata": {},
     "output_type": "execute_result"
    }
   ],
   "source": [
    "#check null values\n",
    "#do we want to drop null values or do we want to drop the columns? \n",
    "data.isnull().sum(axis = 0)"
   ]
  },
  {
   "cell_type": "code",
   "execution_count": null,
   "id": "030a154c",
   "metadata": {},
   "outputs": [],
   "source": [
    "#drop unneccessary columns for our analysis \n",
    "clean_df= data.drop([\"Council_District\",\"APD_Sector\",\"APD_District\",\"PRA\"],axis = 1)"
   ]
  },
  {
   "cell_type": "code",
   "execution_count": null,
   "id": "1761b6c3",
   "metadata": {},
   "outputs": [],
   "source": [
    "#checking null valules of latitude -- why does rape disapear when latitude null values are dropped? \n",
    "lat_lookup = clean_df.loc[clean_df[\"Latitude\"].isnull()].copy()"
   ]
  },
  {
   "cell_type": "code",
   "execution_count": null,
   "id": "e369e908",
   "metadata": {},
   "outputs": [
    {
     "data": {
      "text/plain": [
       "Rape                  2215\n",
       "Aggravated Assault     128\n",
       "Theft                   65\n",
       "Burglary                54\n",
       "Robbery                 20\n",
       "Auto Theft               4\n",
       "Name: Category_Description, dtype: int64"
      ]
     },
     "execution_count": 129,
     "metadata": {},
     "output_type": "execute_result"
    }
   ],
   "source": [
    "#looking at occurances of rape within null latitude values \n",
    "lat_lookup[\"Category_Description\"].value_counts()"
   ]
  },
  {
   "cell_type": "code",
   "execution_count": null,
   "id": "55e7a0c0",
   "metadata": {},
   "outputs": [],
   "source": [
    "#dropping nulls of important columns -- dropping latitude will remove rape occurances \n",
    "clean_df = clean_df.dropna(axis=0, subset=[\"Location_Type\",\"Zip_Code\",\"Census_Tract\"\n",
    "                                           ,\"Latitude\"])\n"
   ]
  },
  {
   "cell_type": "code",
   "execution_count": null,
   "id": "6822fa37",
   "metadata": {},
   "outputs": [
    {
     "data": {
      "text/plain": [
       "array(['Theft', nan, 'Burglary', 'Aggravated Assault', 'Rape', 'Robbery',\n",
       "       'Auto Theft', 'Murder'], dtype=object)"
      ]
     },
     "execution_count": 130,
     "metadata": {},
     "output_type": "execute_result"
    }
   ],
   "source": [
    "clean_df[\"Category_Description\"].unique()"
   ]
  },
  {
   "cell_type": "code",
   "execution_count": null,
   "id": "e2704a2c",
   "metadata": {},
   "outputs": [
    {
     "data": {
      "text/plain": [
       "400299"
      ]
     },
     "execution_count": 131,
     "metadata": {},
     "output_type": "execute_result"
    }
   ],
   "source": [
    "(clean_df[\"Category_Description\"] == \"Rape\").count()"
   ]
  },
  {
   "cell_type": "code",
   "execution_count": null,
   "id": "527b3777",
   "metadata": {},
   "outputs": [],
   "source": [
    "#replacing nulls for UCR_Category with zero \n",
    "clean_df[[\"UCR_Category\"]] = clean_df[[\"UCR_Category\"]].fillna('0')"
   ]
  },
  {
   "cell_type": "code",
   "execution_count": null,
   "id": "1ea58dc2",
   "metadata": {},
   "outputs": [],
   "source": [
    "#replacing nulls with \"None\"\n",
    "clean_df[[\"Category_Description\"]] = clean_df[[\"Category_Description\"]].fillna('None')\n",
    "#replacing nulls with \"U\" for unkown \n",
    "clean_df[[\"Clearance_Status\"]] = clean_df[[\"Clearance_Status\"]].fillna('U')\n",
    "#replacing nulls with a random date so its obvious on visualizaitons \n",
    "clean_df[[\"Clearance_Date\"]] = clean_df[[\"Clearance_Date\"]].fillna('01/01/1888')"
   ]
  },
  {
   "cell_type": "code",
   "execution_count": null,
   "id": "557889c2",
   "metadata": {},
   "outputs": [],
   "source": [
    "#check nulls\n",
    "clean_df.isnull().sum(axis = 0)"
   ]
  },
  {
   "cell_type": "code",
   "execution_count": null,
   "id": "d103a899",
   "metadata": {},
   "outputs": [],
   "source": [
    "#convert occurred date time to datetime dtype\n",
    "df['Occurred_Date_Time'] =  pd.to_datetime(df['Occurred_Date_Time'])\n",
    "#create an hour column for the ocurred time\n",
    "df['hour'] = pd.DatetimeIndex(df['Occurred_Date_Time']).hour\n",
    "df['hour'].head()\n"
   ]
  },
  {
   "cell_type": "code",
   "execution_count": null,
   "id": "3170ee5f",
   "metadata": {},
   "outputs": [
    {
     "data": {
      "text/plain": [
       "array(['Theft', 'None', 'Burglary', 'Aggravated Assault', 'Rape',\n",
       "       'Robbery', 'Auto Theft', 'Murder'], dtype=object)"
      ]
     },
     "execution_count": 140,
     "metadata": {},
     "output_type": "execute_result"
    }
   ],
   "source": [
    "clean_df[\"Category_Description\"].unique()"
   ]
  },
  {
   "cell_type": "code",
   "execution_count": null,
   "id": "184ae358",
   "metadata": {},
   "outputs": [
    {
     "data": {
      "text/plain": [
       "400299"
      ]
     },
     "execution_count": 141,
     "metadata": {},
     "output_type": "execute_result"
    }
   ],
   "source": [
    "len(clean_df)"
   ]
  },
  {
   "cell_type": "code",
   "execution_count": null,
   "id": "adcaf7c0",
   "metadata": {},
   "outputs": [],
   "source": [
    "#convert clean_df to csv \n",
    "clean_df.to_csv(r'Resources/2018To2021CrimeData_clean.csv')"
   ]
  },
  {
   "cell_type": "code",
   "execution_count": null,
   "id": "29365947",
   "metadata": {},
   "outputs": [],
   "source": []
  }
 ],
 "metadata": {
  "interpreter": {
   "hash": "fd763a098ed74b26fb54d2d4ddbf58343cd57368ad26feccf1d53a420650659f"
  },
  "kernelspec": {
   "display_name": "PythonData",
   "language": "python",
   "name": "python3"
  },
  "language_info": {
   "codemirror_mode": {
    "name": "ipython",
    "version": 3
   },
   "file_extension": ".py",
   "mimetype": "text/x-python",
   "name": "python",
   "nbconvert_exporter": "python",
   "pygments_lexer": "ipython3",
   "version": "3.7.11"
  }
 },
 "nbformat": 4,
 "nbformat_minor": 5
}
