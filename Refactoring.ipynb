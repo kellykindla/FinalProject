{
 "cells": [
  {
   "cell_type": "markdown",
   "id": "b03333d3",
   "metadata": {},
   "source": [
    "# Run this notebook after running \"Crime_EDA_K\" and \"HousingData_EDA_K\""
   ]
  },
  {
   "cell_type": "code",
   "execution_count": 1,
   "id": "5cae3a79",
   "metadata": {},
   "outputs": [],
   "source": [
    "#initial imports\n",
    "import pandas as pd \n",
    "import numpy as np\n",
    "from sklearn.linear_model import LinearRegression\n",
    "from sklearn import linear_model\n",
    "from sklearn.metrics import r2_score\n",
    "import matplotlib.pyplot as plt"
   ]
  },
  {
   "cell_type": "code",
   "execution_count": 2,
   "id": "14ef47db",
   "metadata": {},
   "outputs": [],
   "source": [
    "#import cleaned df \n",
    "housing_df = pd.read_csv('Resources/HousingData_clean.csv', index_col = [0])\n",
    "crime_df = pd.read_csv('Resources/2018To2021CrimeData_clean.csv', index_col = [0])"
   ]
  },
  {
   "cell_type": "code",
   "execution_count": 3,
   "id": "204b8417",
   "metadata": {},
   "outputs": [
    {
     "data": {
      "text/html": [
       "<div>\n",
       "<style scoped>\n",
       "    .dataframe tbody tr th:only-of-type {\n",
       "        vertical-align: middle;\n",
       "    }\n",
       "\n",
       "    .dataframe tbody tr th {\n",
       "        vertical-align: top;\n",
       "    }\n",
       "\n",
       "    .dataframe thead th {\n",
       "        text-align: right;\n",
       "    }\n",
       "</style>\n",
       "<table border=\"1\" class=\"dataframe\">\n",
       "  <thead>\n",
       "    <tr style=\"text-align: right;\">\n",
       "      <th></th>\n",
       "      <th>city</th>\n",
       "      <th>streetAddress</th>\n",
       "      <th>zipcode</th>\n",
       "      <th>description</th>\n",
       "      <th>latitude</th>\n",
       "      <th>longitude</th>\n",
       "      <th>propertyTaxRate</th>\n",
       "      <th>hasAssociation</th>\n",
       "      <th>homeType</th>\n",
       "      <th>yearBuilt</th>\n",
       "      <th>latestPrice</th>\n",
       "      <th>numPriceChanges</th>\n",
       "      <th>latest_saledate</th>\n",
       "      <th>latest_salemonth</th>\n",
       "      <th>latest_saleyear</th>\n",
       "      <th>latestPriceSource</th>\n",
       "      <th>lotSizeSqFt</th>\n",
       "      <th>livingAreaSqFt</th>\n",
       "    </tr>\n",
       "  </thead>\n",
       "  <tbody>\n",
       "    <tr>\n",
       "      <th>0</th>\n",
       "      <td>pflugerville</td>\n",
       "      <td>14424 Lake Victor Dr</td>\n",
       "      <td>78660</td>\n",
       "      <td>14424 Lake Victor Dr, Pflugerville, TX 78660 i...</td>\n",
       "      <td>30.430632</td>\n",
       "      <td>-97.663078</td>\n",
       "      <td>1.98</td>\n",
       "      <td>True</td>\n",
       "      <td>Single Family</td>\n",
       "      <td>2012</td>\n",
       "      <td>305000.0</td>\n",
       "      <td>5</td>\n",
       "      <td>2019-09-02</td>\n",
       "      <td>9</td>\n",
       "      <td>2019</td>\n",
       "      <td>Coldwell Banker United, Realtors - South Austin</td>\n",
       "      <td>6011.0</td>\n",
       "      <td>2601.0</td>\n",
       "    </tr>\n",
       "    <tr>\n",
       "      <th>1</th>\n",
       "      <td>pflugerville</td>\n",
       "      <td>1104 Strickling Dr</td>\n",
       "      <td>78660</td>\n",
       "      <td>Absolutely GORGEOUS 4 Bedroom home with 2 full...</td>\n",
       "      <td>30.432673</td>\n",
       "      <td>-97.661697</td>\n",
       "      <td>1.98</td>\n",
       "      <td>True</td>\n",
       "      <td>Single Family</td>\n",
       "      <td>2013</td>\n",
       "      <td>295000.0</td>\n",
       "      <td>1</td>\n",
       "      <td>2020-10-13</td>\n",
       "      <td>10</td>\n",
       "      <td>2020</td>\n",
       "      <td>Agent Provided</td>\n",
       "      <td>6185.0</td>\n",
       "      <td>1768.0</td>\n",
       "    </tr>\n",
       "    <tr>\n",
       "      <th>2</th>\n",
       "      <td>pflugerville</td>\n",
       "      <td>1408 Fort Dessau Rd</td>\n",
       "      <td>78660</td>\n",
       "      <td>Under construction - estimated completion in A...</td>\n",
       "      <td>30.409748</td>\n",
       "      <td>-97.639771</td>\n",
       "      <td>1.98</td>\n",
       "      <td>True</td>\n",
       "      <td>Single Family</td>\n",
       "      <td>2018</td>\n",
       "      <td>256125.0</td>\n",
       "      <td>1</td>\n",
       "      <td>2019-07-31</td>\n",
       "      <td>7</td>\n",
       "      <td>2019</td>\n",
       "      <td>Agent Provided</td>\n",
       "      <td>7840.0</td>\n",
       "      <td>1478.0</td>\n",
       "    </tr>\n",
       "    <tr>\n",
       "      <th>3</th>\n",
       "      <td>pflugerville</td>\n",
       "      <td>1025 Strickling Dr</td>\n",
       "      <td>78660</td>\n",
       "      <td>Absolutely darling one story home in charming ...</td>\n",
       "      <td>30.432112</td>\n",
       "      <td>-97.661659</td>\n",
       "      <td>1.98</td>\n",
       "      <td>True</td>\n",
       "      <td>Single Family</td>\n",
       "      <td>2013</td>\n",
       "      <td>240000.0</td>\n",
       "      <td>4</td>\n",
       "      <td>2018-08-08</td>\n",
       "      <td>8</td>\n",
       "      <td>2018</td>\n",
       "      <td>Agent Provided</td>\n",
       "      <td>6098.0</td>\n",
       "      <td>1678.0</td>\n",
       "    </tr>\n",
       "    <tr>\n",
       "      <th>4</th>\n",
       "      <td>pflugerville</td>\n",
       "      <td>15005 Donna Jane Loop</td>\n",
       "      <td>78660</td>\n",
       "      <td>Brimming with appeal &amp; warm livability! Sleek ...</td>\n",
       "      <td>30.437368</td>\n",
       "      <td>-97.656860</td>\n",
       "      <td>1.98</td>\n",
       "      <td>True</td>\n",
       "      <td>Single Family</td>\n",
       "      <td>2002</td>\n",
       "      <td>239900.0</td>\n",
       "      <td>3</td>\n",
       "      <td>2018-10-31</td>\n",
       "      <td>10</td>\n",
       "      <td>2018</td>\n",
       "      <td>Agent Provided</td>\n",
       "      <td>6708.0</td>\n",
       "      <td>2132.0</td>\n",
       "    </tr>\n",
       "  </tbody>\n",
       "</table>\n",
       "</div>"
      ],
      "text/plain": [
       "           city          streetAddress  zipcode  \\\n",
       "0  pflugerville   14424 Lake Victor Dr    78660   \n",
       "1  pflugerville     1104 Strickling Dr    78660   \n",
       "2  pflugerville    1408 Fort Dessau Rd    78660   \n",
       "3  pflugerville     1025 Strickling Dr    78660   \n",
       "4  pflugerville  15005 Donna Jane Loop    78660   \n",
       "\n",
       "                                         description   latitude  longitude  \\\n",
       "0  14424 Lake Victor Dr, Pflugerville, TX 78660 i...  30.430632 -97.663078   \n",
       "1  Absolutely GORGEOUS 4 Bedroom home with 2 full...  30.432673 -97.661697   \n",
       "2  Under construction - estimated completion in A...  30.409748 -97.639771   \n",
       "3  Absolutely darling one story home in charming ...  30.432112 -97.661659   \n",
       "4  Brimming with appeal & warm livability! Sleek ...  30.437368 -97.656860   \n",
       "\n",
       "   propertyTaxRate  hasAssociation       homeType  yearBuilt  latestPrice  \\\n",
       "0             1.98            True  Single Family       2012     305000.0   \n",
       "1             1.98            True  Single Family       2013     295000.0   \n",
       "2             1.98            True  Single Family       2018     256125.0   \n",
       "3             1.98            True  Single Family       2013     240000.0   \n",
       "4             1.98            True  Single Family       2002     239900.0   \n",
       "\n",
       "   numPriceChanges latest_saledate  latest_salemonth  latest_saleyear  \\\n",
       "0                5      2019-09-02                 9             2019   \n",
       "1                1      2020-10-13                10             2020   \n",
       "2                1      2019-07-31                 7             2019   \n",
       "3                4      2018-08-08                 8             2018   \n",
       "4                3      2018-10-31                10             2018   \n",
       "\n",
       "                                 latestPriceSource  lotSizeSqFt  \\\n",
       "0  Coldwell Banker United, Realtors - South Austin       6011.0   \n",
       "1                                   Agent Provided       6185.0   \n",
       "2                                   Agent Provided       7840.0   \n",
       "3                                   Agent Provided       6098.0   \n",
       "4                                   Agent Provided       6708.0   \n",
       "\n",
       "   livingAreaSqFt  \n",
       "0          2601.0  \n",
       "1          1768.0  \n",
       "2          1478.0  \n",
       "3          1678.0  \n",
       "4          2132.0  "
      ]
     },
     "execution_count": 3,
     "metadata": {},
     "output_type": "execute_result"
    }
   ],
   "source": [
    "#preview housing df \n",
    "housing_df.head()"
   ]
  },
  {
   "cell_type": "code",
   "execution_count": 4,
   "id": "acfeb1a3",
   "metadata": {},
   "outputs": [],
   "source": [
    "#create an hour column for the ocurred time\n",
    "crime_df['hour'] = pd.DatetimeIndex(crime_df['Occurred_Date_Time']).hour"
   ]
  },
  {
   "cell_type": "code",
   "execution_count": 6,
   "id": "f06685ae",
   "metadata": {},
   "outputs": [
    {
     "data": {
      "text/html": [
       "<div>\n",
       "<style scoped>\n",
       "    .dataframe tbody tr th:only-of-type {\n",
       "        vertical-align: middle;\n",
       "    }\n",
       "\n",
       "    .dataframe tbody tr th {\n",
       "        vertical-align: top;\n",
       "    }\n",
       "\n",
       "    .dataframe thead th {\n",
       "        text-align: right;\n",
       "    }\n",
       "</style>\n",
       "<table border=\"1\" class=\"dataframe\">\n",
       "  <thead>\n",
       "    <tr style=\"text-align: right;\">\n",
       "      <th></th>\n",
       "      <th>Incident_Number</th>\n",
       "      <th>Highest_Offense_Description</th>\n",
       "      <th>Highest_Offense_Code</th>\n",
       "      <th>Family_Violence</th>\n",
       "      <th>Occurred_Date_Time</th>\n",
       "      <th>Occurred_Date</th>\n",
       "      <th>Occurred_Time</th>\n",
       "      <th>Report_Date_Time</th>\n",
       "      <th>Report_Date</th>\n",
       "      <th>Report_Time</th>\n",
       "      <th>...</th>\n",
       "      <th>Clearance_Date</th>\n",
       "      <th>UCR_Category</th>\n",
       "      <th>Category_Description</th>\n",
       "      <th>X-coordinate</th>\n",
       "      <th>Y-coordinate</th>\n",
       "      <th>Latitude</th>\n",
       "      <th>Longitude</th>\n",
       "      <th>Location</th>\n",
       "      <th>year</th>\n",
       "      <th>hour</th>\n",
       "    </tr>\n",
       "  </thead>\n",
       "  <tbody>\n",
       "    <tr>\n",
       "      <th>1</th>\n",
       "      <td>20195014472</td>\n",
       "      <td>BURGLARY OF VEHICLE</td>\n",
       "      <td>601</td>\n",
       "      <td>N</td>\n",
       "      <td>2019-04-08 22:00:00</td>\n",
       "      <td>2019-04-08</td>\n",
       "      <td>1970-01-01 00:00:00.000002200</td>\n",
       "      <td>2019-04-09 13:09:00</td>\n",
       "      <td>2019-04-09</td>\n",
       "      <td>1970-01-01 00:00:00.000001309</td>\n",
       "      <td>...</td>\n",
       "      <td>04/09/2019</td>\n",
       "      <td>23F</td>\n",
       "      <td>Theft</td>\n",
       "      <td>3119486.0</td>\n",
       "      <td>3119486.0</td>\n",
       "      <td>30.292247</td>\n",
       "      <td>-97.725763</td>\n",
       "      <td>(30.29224653, -97.72576272)</td>\n",
       "      <td>2019.0</td>\n",
       "      <td>22</td>\n",
       "    </tr>\n",
       "    <tr>\n",
       "      <th>5</th>\n",
       "      <td>20191561862</td>\n",
       "      <td>POSSESSION OF MARIJUANA</td>\n",
       "      <td>1803</td>\n",
       "      <td>N</td>\n",
       "      <td>2019-06-05 22:35:00</td>\n",
       "      <td>2019-06-05</td>\n",
       "      <td>1970-01-01 00:00:00.000002235</td>\n",
       "      <td>2019-06-05 22:35:00</td>\n",
       "      <td>2019-06-05</td>\n",
       "      <td>1970-01-01 00:00:00.000002235</td>\n",
       "      <td>...</td>\n",
       "      <td>01/01/1888</td>\n",
       "      <td>0</td>\n",
       "      <td>None</td>\n",
       "      <td>3108421.0</td>\n",
       "      <td>3108421.0</td>\n",
       "      <td>30.193941</td>\n",
       "      <td>-97.763449</td>\n",
       "      <td>(30.19394123, -97.76344868)</td>\n",
       "      <td>2019.0</td>\n",
       "      <td>22</td>\n",
       "    </tr>\n",
       "    <tr>\n",
       "      <th>6</th>\n",
       "      <td>20191511203</td>\n",
       "      <td>EVADING / FOOT</td>\n",
       "      <td>2723</td>\n",
       "      <td>N</td>\n",
       "      <td>2019-05-31 14:58:00</td>\n",
       "      <td>2019-05-31</td>\n",
       "      <td>1970-01-01 00:00:00.000001458</td>\n",
       "      <td>2019-05-31 14:58:00</td>\n",
       "      <td>2019-05-31</td>\n",
       "      <td>1970-01-01 00:00:00.000001458</td>\n",
       "      <td>...</td>\n",
       "      <td>06/04/2019</td>\n",
       "      <td>0</td>\n",
       "      <td>None</td>\n",
       "      <td>3099373.0</td>\n",
       "      <td>3099373.0</td>\n",
       "      <td>30.225732</td>\n",
       "      <td>-97.791259</td>\n",
       "      <td>(30.22573152, -97.79125883)</td>\n",
       "      <td>2019.0</td>\n",
       "      <td>14</td>\n",
       "    </tr>\n",
       "    <tr>\n",
       "      <th>7</th>\n",
       "      <td>2019990714</td>\n",
       "      <td>BURGLARY OF RESIDENCE</td>\n",
       "      <td>500</td>\n",
       "      <td>N</td>\n",
       "      <td>2019-04-09 12:06:00</td>\n",
       "      <td>2019-04-09</td>\n",
       "      <td>1970-01-01 00:00:00.000001206</td>\n",
       "      <td>2019-04-09 12:06:00</td>\n",
       "      <td>2019-04-09</td>\n",
       "      <td>1970-01-01 00:00:00.000001206</td>\n",
       "      <td>...</td>\n",
       "      <td>06/04/2019</td>\n",
       "      <td>220</td>\n",
       "      <td>Burglary</td>\n",
       "      <td>3111980.0</td>\n",
       "      <td>3111980.0</td>\n",
       "      <td>30.201607</td>\n",
       "      <td>-97.751976</td>\n",
       "      <td>(30.2016066, -97.75197579)</td>\n",
       "      <td>2019.0</td>\n",
       "      <td>12</td>\n",
       "    </tr>\n",
       "    <tr>\n",
       "      <th>10</th>\n",
       "      <td>20191561277</td>\n",
       "      <td>POSS CONTROLLED SUB/NARCOTIC</td>\n",
       "      <td>1800</td>\n",
       "      <td>N</td>\n",
       "      <td>2019-06-05 17:53:00</td>\n",
       "      <td>2019-06-05</td>\n",
       "      <td>1970-01-01 00:00:00.000001753</td>\n",
       "      <td>2019-06-05 17:53:00</td>\n",
       "      <td>2019-06-05</td>\n",
       "      <td>1970-01-01 00:00:00.000001753</td>\n",
       "      <td>...</td>\n",
       "      <td>06/07/2019</td>\n",
       "      <td>0</td>\n",
       "      <td>None</td>\n",
       "      <td>3179352.0</td>\n",
       "      <td>3179352.0</td>\n",
       "      <td>30.349163</td>\n",
       "      <td>-97.534373</td>\n",
       "      <td>(30.3491627, -97.5343733)</td>\n",
       "      <td>2019.0</td>\n",
       "      <td>17</td>\n",
       "    </tr>\n",
       "  </tbody>\n",
       "</table>\n",
       "<p>5 rows × 25 columns</p>\n",
       "</div>"
      ],
      "text/plain": [
       "    Incident_Number   Highest_Offense_Description  Highest_Offense_Code  \\\n",
       "1       20195014472           BURGLARY OF VEHICLE                   601   \n",
       "5       20191561862       POSSESSION OF MARIJUANA                  1803   \n",
       "6       20191511203                EVADING / FOOT                  2723   \n",
       "7        2019990714         BURGLARY OF RESIDENCE                   500   \n",
       "10      20191561277  POSS CONTROLLED SUB/NARCOTIC                  1800   \n",
       "\n",
       "   Family_Violence   Occurred_Date_Time Occurred_Date  \\\n",
       "1                N  2019-04-08 22:00:00    2019-04-08   \n",
       "5                N  2019-06-05 22:35:00    2019-06-05   \n",
       "6                N  2019-05-31 14:58:00    2019-05-31   \n",
       "7                N  2019-04-09 12:06:00    2019-04-09   \n",
       "10               N  2019-06-05 17:53:00    2019-06-05   \n",
       "\n",
       "                    Occurred_Time     Report_Date_Time Report_Date  \\\n",
       "1   1970-01-01 00:00:00.000002200  2019-04-09 13:09:00  2019-04-09   \n",
       "5   1970-01-01 00:00:00.000002235  2019-06-05 22:35:00  2019-06-05   \n",
       "6   1970-01-01 00:00:00.000001458  2019-05-31 14:58:00  2019-05-31   \n",
       "7   1970-01-01 00:00:00.000001206  2019-04-09 12:06:00  2019-04-09   \n",
       "10  1970-01-01 00:00:00.000001753  2019-06-05 17:53:00  2019-06-05   \n",
       "\n",
       "                      Report_Time  ... Clearance_Date UCR_Category  \\\n",
       "1   1970-01-01 00:00:00.000001309  ...     04/09/2019          23F   \n",
       "5   1970-01-01 00:00:00.000002235  ...     01/01/1888            0   \n",
       "6   1970-01-01 00:00:00.000001458  ...     06/04/2019            0   \n",
       "7   1970-01-01 00:00:00.000001206  ...     06/04/2019          220   \n",
       "10  1970-01-01 00:00:00.000001753  ...     06/07/2019            0   \n",
       "\n",
       "    Category_Description  X-coordinate Y-coordinate   Latitude  Longitude  \\\n",
       "1                  Theft     3119486.0    3119486.0  30.292247 -97.725763   \n",
       "5                   None     3108421.0    3108421.0  30.193941 -97.763449   \n",
       "6                   None     3099373.0    3099373.0  30.225732 -97.791259   \n",
       "7               Burglary     3111980.0    3111980.0  30.201607 -97.751976   \n",
       "10                  None     3179352.0    3179352.0  30.349163 -97.534373   \n",
       "\n",
       "                       Location    year  hour  \n",
       "1   (30.29224653, -97.72576272)  2019.0    22  \n",
       "5   (30.19394123, -97.76344868)  2019.0    22  \n",
       "6   (30.22573152, -97.79125883)  2019.0    14  \n",
       "7    (30.2016066, -97.75197579)  2019.0    12  \n",
       "10    (30.3491627, -97.5343733)  2019.0    17  \n",
       "\n",
       "[5 rows x 25 columns]"
      ]
     },
     "execution_count": 6,
     "metadata": {},
     "output_type": "execute_result"
    }
   ],
   "source": [
    "#preview crime df \n",
    "crime_df.head()"
   ]
  },
  {
   "cell_type": "markdown",
   "id": "3a15414e",
   "metadata": {},
   "source": [
    "# Merge crime and housing data sets by zipcode"
   ]
  },
  {
   "cell_type": "code",
   "execution_count": 10,
   "id": "06d9c587",
   "metadata": {},
   "outputs": [],
   "source": [
    "#change crime_df zipcode column to match housing_df\n",
    "crime_df.rename(columns = {'Zip_Code':'zipcode'}, inplace = True)"
   ]
  },
  {
   "cell_type": "code",
   "execution_count": 11,
   "id": "8a1b886d",
   "metadata": {},
   "outputs": [],
   "source": [
    "#change zipcode in crime_df from float to int \n",
    "crime_df['zipcode'] = crime_df['zipcode'].astype(int)"
   ]
  },
  {
   "cell_type": "code",
   "execution_count": 12,
   "id": "50a64ab2",
   "metadata": {},
   "outputs": [],
   "source": [
    "#group crime_df on zipcodes\n",
    "group_df = crime_df.groupby(by = crime_df['zipcode'])"
   ]
  },
  {
   "cell_type": "code",
   "execution_count": 13,
   "id": "6da1c2e8",
   "metadata": {},
   "outputs": [],
   "source": [
    "#get the count of occurances by zipcode\n",
    "group_df2 = group_df.count()"
   ]
  },
  {
   "cell_type": "code",
   "execution_count": 14,
   "id": "1ec70ad4",
   "metadata": {},
   "outputs": [
    {
     "data": {
      "text/html": [
       "<div>\n",
       "<style scoped>\n",
       "    .dataframe tbody tr th:only-of-type {\n",
       "        vertical-align: middle;\n",
       "    }\n",
       "\n",
       "    .dataframe tbody tr th {\n",
       "        vertical-align: top;\n",
       "    }\n",
       "\n",
       "    .dataframe thead th {\n",
       "        text-align: right;\n",
       "    }\n",
       "</style>\n",
       "<table border=\"1\" class=\"dataframe\">\n",
       "  <thead>\n",
       "    <tr style=\"text-align: right;\">\n",
       "      <th></th>\n",
       "      <th>Incident_Number</th>\n",
       "      <th>Highest_Offense_Description</th>\n",
       "      <th>Highest_Offense_Code</th>\n",
       "      <th>Family_Violence</th>\n",
       "      <th>Occurred_Date_Time</th>\n",
       "      <th>Occurred_Date</th>\n",
       "      <th>Occurred_Time</th>\n",
       "      <th>Report_Date_Time</th>\n",
       "      <th>Report_Date</th>\n",
       "      <th>Report_Time</th>\n",
       "      <th>...</th>\n",
       "      <th>Clearance_Date</th>\n",
       "      <th>UCR_Category</th>\n",
       "      <th>Category_Description</th>\n",
       "      <th>X-coordinate</th>\n",
       "      <th>Y-coordinate</th>\n",
       "      <th>Latitude</th>\n",
       "      <th>Longitude</th>\n",
       "      <th>Location</th>\n",
       "      <th>year</th>\n",
       "      <th>hour</th>\n",
       "    </tr>\n",
       "    <tr>\n",
       "      <th>zipcode</th>\n",
       "      <th></th>\n",
       "      <th></th>\n",
       "      <th></th>\n",
       "      <th></th>\n",
       "      <th></th>\n",
       "      <th></th>\n",
       "      <th></th>\n",
       "      <th></th>\n",
       "      <th></th>\n",
       "      <th></th>\n",
       "      <th></th>\n",
       "      <th></th>\n",
       "      <th></th>\n",
       "      <th></th>\n",
       "      <th></th>\n",
       "      <th></th>\n",
       "      <th></th>\n",
       "      <th></th>\n",
       "      <th></th>\n",
       "      <th></th>\n",
       "      <th></th>\n",
       "    </tr>\n",
       "  </thead>\n",
       "  <tbody>\n",
       "    <tr>\n",
       "      <th>78610</th>\n",
       "      <td>24</td>\n",
       "      <td>24</td>\n",
       "      <td>24</td>\n",
       "      <td>24</td>\n",
       "      <td>24</td>\n",
       "      <td>24</td>\n",
       "      <td>24</td>\n",
       "      <td>24</td>\n",
       "      <td>24</td>\n",
       "      <td>24</td>\n",
       "      <td>...</td>\n",
       "      <td>24</td>\n",
       "      <td>24</td>\n",
       "      <td>24</td>\n",
       "      <td>24</td>\n",
       "      <td>24</td>\n",
       "      <td>24</td>\n",
       "      <td>24</td>\n",
       "      <td>24</td>\n",
       "      <td>24</td>\n",
       "      <td>24</td>\n",
       "    </tr>\n",
       "    <tr>\n",
       "      <th>78612</th>\n",
       "      <td>2</td>\n",
       "      <td>2</td>\n",
       "      <td>2</td>\n",
       "      <td>2</td>\n",
       "      <td>2</td>\n",
       "      <td>2</td>\n",
       "      <td>2</td>\n",
       "      <td>2</td>\n",
       "      <td>2</td>\n",
       "      <td>2</td>\n",
       "      <td>...</td>\n",
       "      <td>2</td>\n",
       "      <td>2</td>\n",
       "      <td>2</td>\n",
       "      <td>2</td>\n",
       "      <td>2</td>\n",
       "      <td>2</td>\n",
       "      <td>2</td>\n",
       "      <td>2</td>\n",
       "      <td>2</td>\n",
       "      <td>2</td>\n",
       "    </tr>\n",
       "    <tr>\n",
       "      <th>78613</th>\n",
       "      <td>1963</td>\n",
       "      <td>1963</td>\n",
       "      <td>1963</td>\n",
       "      <td>1963</td>\n",
       "      <td>1963</td>\n",
       "      <td>1963</td>\n",
       "      <td>1963</td>\n",
       "      <td>1963</td>\n",
       "      <td>1963</td>\n",
       "      <td>1963</td>\n",
       "      <td>...</td>\n",
       "      <td>1963</td>\n",
       "      <td>1963</td>\n",
       "      <td>1963</td>\n",
       "      <td>1963</td>\n",
       "      <td>1963</td>\n",
       "      <td>1940</td>\n",
       "      <td>1940</td>\n",
       "      <td>1940</td>\n",
       "      <td>1963</td>\n",
       "      <td>1963</td>\n",
       "    </tr>\n",
       "    <tr>\n",
       "      <th>78616</th>\n",
       "      <td>1</td>\n",
       "      <td>1</td>\n",
       "      <td>1</td>\n",
       "      <td>1</td>\n",
       "      <td>1</td>\n",
       "      <td>1</td>\n",
       "      <td>1</td>\n",
       "      <td>1</td>\n",
       "      <td>1</td>\n",
       "      <td>1</td>\n",
       "      <td>...</td>\n",
       "      <td>1</td>\n",
       "      <td>1</td>\n",
       "      <td>1</td>\n",
       "      <td>1</td>\n",
       "      <td>1</td>\n",
       "      <td>1</td>\n",
       "      <td>1</td>\n",
       "      <td>1</td>\n",
       "      <td>1</td>\n",
       "      <td>1</td>\n",
       "    </tr>\n",
       "    <tr>\n",
       "      <th>78617</th>\n",
       "      <td>3497</td>\n",
       "      <td>3497</td>\n",
       "      <td>3497</td>\n",
       "      <td>3497</td>\n",
       "      <td>3497</td>\n",
       "      <td>3497</td>\n",
       "      <td>3497</td>\n",
       "      <td>3497</td>\n",
       "      <td>3497</td>\n",
       "      <td>3497</td>\n",
       "      <td>...</td>\n",
       "      <td>3497</td>\n",
       "      <td>3497</td>\n",
       "      <td>3497</td>\n",
       "      <td>3497</td>\n",
       "      <td>3497</td>\n",
       "      <td>3417</td>\n",
       "      <td>3417</td>\n",
       "      <td>3417</td>\n",
       "      <td>3497</td>\n",
       "      <td>3497</td>\n",
       "    </tr>\n",
       "  </tbody>\n",
       "</table>\n",
       "<p>5 rows × 24 columns</p>\n",
       "</div>"
      ],
      "text/plain": [
       "         Incident_Number  Highest_Offense_Description  Highest_Offense_Code  \\\n",
       "zipcode                                                                       \n",
       "78610                 24                           24                    24   \n",
       "78612                  2                            2                     2   \n",
       "78613               1963                         1963                  1963   \n",
       "78616                  1                            1                     1   \n",
       "78617               3497                         3497                  3497   \n",
       "\n",
       "         Family_Violence  Occurred_Date_Time  Occurred_Date  Occurred_Time  \\\n",
       "zipcode                                                                      \n",
       "78610                 24                  24             24             24   \n",
       "78612                  2                   2              2              2   \n",
       "78613               1963                1963           1963           1963   \n",
       "78616                  1                   1              1              1   \n",
       "78617               3497                3497           3497           3497   \n",
       "\n",
       "         Report_Date_Time  Report_Date  Report_Time  ...  Clearance_Date  \\\n",
       "zipcode                                              ...                   \n",
       "78610                  24           24           24  ...              24   \n",
       "78612                   2            2            2  ...               2   \n",
       "78613                1963         1963         1963  ...            1963   \n",
       "78616                   1            1            1  ...               1   \n",
       "78617                3497         3497         3497  ...            3497   \n",
       "\n",
       "         UCR_Category  Category_Description  X-coordinate  Y-coordinate  \\\n",
       "zipcode                                                                   \n",
       "78610              24                    24            24            24   \n",
       "78612               2                     2             2             2   \n",
       "78613            1963                  1963          1963          1963   \n",
       "78616               1                     1             1             1   \n",
       "78617            3497                  3497          3497          3497   \n",
       "\n",
       "         Latitude  Longitude  Location  year  hour  \n",
       "zipcode                                             \n",
       "78610          24         24        24    24    24  \n",
       "78612           2          2         2     2     2  \n",
       "78613        1940       1940      1940  1963  1963  \n",
       "78616           1          1         1     1     1  \n",
       "78617        3417       3417      3417  3497  3497  \n",
       "\n",
       "[5 rows x 24 columns]"
      ]
     },
     "execution_count": 14,
     "metadata": {},
     "output_type": "execute_result"
    }
   ],
   "source": [
    "#preview grouped df \n",
    "group_df2.head()"
   ]
  },
  {
   "cell_type": "markdown",
   "id": "6be0e415",
   "metadata": {},
   "source": [
    "# Practice merging on pandas -- final merge will be on SQL"
   ]
  },
  {
   "cell_type": "code",
   "execution_count": 15,
   "id": "b0263b66",
   "metadata": {},
   "outputs": [],
   "source": [
    "#merge the dataframes on grouping \n",
    "new_merge = pd.merge(housing_df[['latestPrice','propertyTaxRate','zipcode']], group_df2[['Incident_Number','hour']], on ='zipcode',how = 'left')\n"
   ]
  },
  {
   "cell_type": "code",
   "execution_count": 16,
   "id": "38b8b962",
   "metadata": {},
   "outputs": [],
   "source": [
    "#change name of Incident_Number column to Count \n",
    "new_merge = new_merge.rename(columns={\"Incident_Number\": \"Count_Crimes\"})"
   ]
  },
  {
   "cell_type": "code",
   "execution_count": 17,
   "id": "54f8bddf",
   "metadata": {},
   "outputs": [
    {
     "data": {
      "text/html": [
       "<div>\n",
       "<style scoped>\n",
       "    .dataframe tbody tr th:only-of-type {\n",
       "        vertical-align: middle;\n",
       "    }\n",
       "\n",
       "    .dataframe tbody tr th {\n",
       "        vertical-align: top;\n",
       "    }\n",
       "\n",
       "    .dataframe thead th {\n",
       "        text-align: right;\n",
       "    }\n",
       "</style>\n",
       "<table border=\"1\" class=\"dataframe\">\n",
       "  <thead>\n",
       "    <tr style=\"text-align: right;\">\n",
       "      <th></th>\n",
       "      <th>latestPrice</th>\n",
       "      <th>propertyTaxRate</th>\n",
       "      <th>zipcode</th>\n",
       "      <th>Count_Crimes</th>\n",
       "      <th>hour</th>\n",
       "    </tr>\n",
       "  </thead>\n",
       "  <tbody>\n",
       "    <tr>\n",
       "      <th>4294</th>\n",
       "      <td>533000.0</td>\n",
       "      <td>2.01</td>\n",
       "      <td>78737</td>\n",
       "      <td>65.0</td>\n",
       "      <td>65.0</td>\n",
       "    </tr>\n",
       "    <tr>\n",
       "      <th>2747</th>\n",
       "      <td>320000.0</td>\n",
       "      <td>1.98</td>\n",
       "      <td>78724</td>\n",
       "      <td>6777.0</td>\n",
       "      <td>6777.0</td>\n",
       "    </tr>\n",
       "    <tr>\n",
       "      <th>8128</th>\n",
       "      <td>749000.0</td>\n",
       "      <td>2.21</td>\n",
       "      <td>78717</td>\n",
       "      <td>3593.0</td>\n",
       "      <td>3593.0</td>\n",
       "    </tr>\n",
       "    <tr>\n",
       "      <th>14736</th>\n",
       "      <td>582000.0</td>\n",
       "      <td>1.98</td>\n",
       "      <td>78751</td>\n",
       "      <td>10431.0</td>\n",
       "      <td>10431.0</td>\n",
       "    </tr>\n",
       "    <tr>\n",
       "      <th>9241</th>\n",
       "      <td>780000.0</td>\n",
       "      <td>1.98</td>\n",
       "      <td>78702</td>\n",
       "      <td>17436.0</td>\n",
       "      <td>17436.0</td>\n",
       "    </tr>\n",
       "  </tbody>\n",
       "</table>\n",
       "</div>"
      ],
      "text/plain": [
       "       latestPrice  propertyTaxRate  zipcode  Count_Crimes     hour\n",
       "4294      533000.0             2.01    78737          65.0     65.0\n",
       "2747      320000.0             1.98    78724        6777.0   6777.0\n",
       "8128      749000.0             2.21    78717        3593.0   3593.0\n",
       "14736     582000.0             1.98    78751       10431.0  10431.0\n",
       "9241      780000.0             1.98    78702       17436.0  17436.0"
      ]
     },
     "execution_count": 17,
     "metadata": {},
     "output_type": "execute_result"
    }
   ],
   "source": [
    "#preview merge \n",
    "new_merge.sample(5)"
   ]
  },
  {
   "cell_type": "code",
   "execution_count": 18,
   "id": "ef470507",
   "metadata": {},
   "outputs": [
    {
     "data": {
      "text/plain": [
       "latestPrice        float64\n",
       "propertyTaxRate    float64\n",
       "zipcode              int64\n",
       "Count_Crimes       float64\n",
       "hour               float64\n",
       "dtype: object"
      ]
     },
     "execution_count": 18,
     "metadata": {},
     "output_type": "execute_result"
    }
   ],
   "source": [
    "#check datatypes of merged df \n",
    "new_merge.dtypes"
   ]
  },
  {
   "cell_type": "code",
   "execution_count": 19,
   "id": "0776ba17",
   "metadata": {},
   "outputs": [
    {
     "data": {
      "text/plain": [
       "latestPrice         0\n",
       "propertyTaxRate     0\n",
       "zipcode             0\n",
       "Count_Crimes       12\n",
       "hour               12\n",
       "dtype: int64"
      ]
     },
     "execution_count": 19,
     "metadata": {},
     "output_type": "execute_result"
    }
   ],
   "source": [
    "#check if theres null values from merge-- nulls will be 0 crimes\n",
    "new_merge.isnull().sum(axis = 0)"
   ]
  },
  {
   "cell_type": "code",
   "execution_count": 20,
   "id": "310fd827",
   "metadata": {},
   "outputs": [],
   "source": [
    "#fill null values with zero \n",
    "new_merge[[\"Count_Crimes\",\"hour\"]] = new_merge[[\"Count_Crimes\",\"hour\"]].fillna(0)"
   ]
  },
  {
   "cell_type": "code",
   "execution_count": 21,
   "id": "43d3e48a",
   "metadata": {},
   "outputs": [
    {
     "data": {
      "text/plain": [
       "latestPrice        0\n",
       "propertyTaxRate    0\n",
       "zipcode            0\n",
       "Count_Crimes       0\n",
       "hour               0\n",
       "dtype: int64"
      ]
     },
     "execution_count": 21,
     "metadata": {},
     "output_type": "execute_result"
    }
   ],
   "source": [
    "#check if theres null values from merge-- nulls will be 0 crimes\n",
    "new_merge.isnull().sum(axis = 0)"
   ]
  },
  {
   "cell_type": "markdown",
   "id": "86a87868",
   "metadata": {},
   "source": [
    "# Machine Learning Model with merged data"
   ]
  },
  {
   "cell_type": "code",
   "execution_count": 22,
   "id": "1b4f9fee",
   "metadata": {},
   "outputs": [
    {
     "data": {
      "text/html": [
       "<div>\n",
       "<style scoped>\n",
       "    .dataframe tbody tr th:only-of-type {\n",
       "        vertical-align: middle;\n",
       "    }\n",
       "\n",
       "    .dataframe tbody tr th {\n",
       "        vertical-align: top;\n",
       "    }\n",
       "\n",
       "    .dataframe thead th {\n",
       "        text-align: right;\n",
       "    }\n",
       "</style>\n",
       "<table border=\"1\" class=\"dataframe\">\n",
       "  <thead>\n",
       "    <tr style=\"text-align: right;\">\n",
       "      <th></th>\n",
       "      <th>latestPrice</th>\n",
       "      <th>propertyTaxRate</th>\n",
       "      <th>zipcode</th>\n",
       "      <th>Count_Crimes</th>\n",
       "      <th>hour</th>\n",
       "    </tr>\n",
       "  </thead>\n",
       "  <tbody>\n",
       "    <tr>\n",
       "      <th>latestPrice</th>\n",
       "      <td>1.000000</td>\n",
       "      <td>-0.062179</td>\n",
       "      <td>-0.145946</td>\n",
       "      <td>-0.144450</td>\n",
       "      <td>-0.144450</td>\n",
       "    </tr>\n",
       "    <tr>\n",
       "      <th>propertyTaxRate</th>\n",
       "      <td>-0.062179</td>\n",
       "      <td>1.000000</td>\n",
       "      <td>-0.172846</td>\n",
       "      <td>-0.185072</td>\n",
       "      <td>-0.185072</td>\n",
       "    </tr>\n",
       "    <tr>\n",
       "      <th>zipcode</th>\n",
       "      <td>-0.145946</td>\n",
       "      <td>-0.172846</td>\n",
       "      <td>1.000000</td>\n",
       "      <td>0.110361</td>\n",
       "      <td>0.110361</td>\n",
       "    </tr>\n",
       "    <tr>\n",
       "      <th>Count_Crimes</th>\n",
       "      <td>-0.144450</td>\n",
       "      <td>-0.185072</td>\n",
       "      <td>0.110361</td>\n",
       "      <td>1.000000</td>\n",
       "      <td>1.000000</td>\n",
       "    </tr>\n",
       "    <tr>\n",
       "      <th>hour</th>\n",
       "      <td>-0.144450</td>\n",
       "      <td>-0.185072</td>\n",
       "      <td>0.110361</td>\n",
       "      <td>1.000000</td>\n",
       "      <td>1.000000</td>\n",
       "    </tr>\n",
       "  </tbody>\n",
       "</table>\n",
       "</div>"
      ],
      "text/plain": [
       "                 latestPrice  propertyTaxRate   zipcode  Count_Crimes  \\\n",
       "latestPrice         1.000000        -0.062179 -0.145946     -0.144450   \n",
       "propertyTaxRate    -0.062179         1.000000 -0.172846     -0.185072   \n",
       "zipcode            -0.145946        -0.172846  1.000000      0.110361   \n",
       "Count_Crimes       -0.144450        -0.185072  0.110361      1.000000   \n",
       "hour               -0.144450        -0.185072  0.110361      1.000000   \n",
       "\n",
       "                     hour  \n",
       "latestPrice     -0.144450  \n",
       "propertyTaxRate -0.185072  \n",
       "zipcode          0.110361  \n",
       "Count_Crimes     1.000000  \n",
       "hour             1.000000  "
      ]
     },
     "execution_count": 22,
     "metadata": {},
     "output_type": "execute_result"
    }
   ],
   "source": [
    "new_merge.corr()"
   ]
  },
  {
   "cell_type": "code",
   "execution_count": 23,
   "id": "98fabb40",
   "metadata": {},
   "outputs": [],
   "source": [
    "X = new_merge[[\"Count_Crimes\",\"hour\",\"propertyTaxRate\"]]\n",
    "y = new_merge[[\"latestPrice\"]]"
   ]
  },
  {
   "cell_type": "code",
   "execution_count": 24,
   "id": "427e0ae2",
   "metadata": {},
   "outputs": [],
   "source": [
    "model = linear_model.LinearRegression()"
   ]
  },
  {
   "cell_type": "code",
   "execution_count": 25,
   "id": "c3bc0867",
   "metadata": {},
   "outputs": [
    {
     "data": {
      "text/plain": [
       "LinearRegression()"
      ]
     },
     "execution_count": 25,
     "metadata": {},
     "output_type": "execute_result"
    }
   ],
   "source": [
    "model.fit(X,y)"
   ]
  },
  {
   "cell_type": "code",
   "execution_count": 26,
   "id": "9bb97e15",
   "metadata": {},
   "outputs": [
    {
     "data": {
      "text/plain": [
       "(15171, 1)"
      ]
     },
     "execution_count": 26,
     "metadata": {},
     "output_type": "execute_result"
    }
   ],
   "source": [
    "y_pred = model.predict(X)\n",
    "y_pred.shape"
   ]
  },
  {
   "cell_type": "code",
   "execution_count": 27,
   "id": "27f3b8f1",
   "metadata": {},
   "outputs": [
    {
     "name": "stdout",
     "output_type": "stream",
     "text": [
      "[[-3.77298222e+00 -3.77298302e+00 -7.85716829e+05]]\n",
      "[2163779.95823627]\n"
     ]
    }
   ],
   "source": [
    "print(model.coef_)\n",
    "print(model.intercept_)"
   ]
  },
  {
   "cell_type": "code",
   "execution_count": 28,
   "id": "48e28155",
   "metadata": {},
   "outputs": [
    {
     "data": {
      "text/plain": [
       "0.02905161838810788"
      ]
     },
     "execution_count": 28,
     "metadata": {},
     "output_type": "execute_result"
    }
   ],
   "source": [
    "r2_score(y, y_pred)"
   ]
  },
  {
   "cell_type": "markdown",
   "id": "64344bf9",
   "metadata": {},
   "source": [
    "# Attempting SVM "
   ]
  },
  {
   "cell_type": "code",
   "execution_count": 29,
   "id": "e3e5ef5c",
   "metadata": {},
   "outputs": [
    {
     "data": {
      "text/html": [
       "<div>\n",
       "<style scoped>\n",
       "    .dataframe tbody tr th:only-of-type {\n",
       "        vertical-align: middle;\n",
       "    }\n",
       "\n",
       "    .dataframe tbody tr th {\n",
       "        vertical-align: top;\n",
       "    }\n",
       "\n",
       "    .dataframe thead th {\n",
       "        text-align: right;\n",
       "    }\n",
       "</style>\n",
       "<table border=\"1\" class=\"dataframe\">\n",
       "  <thead>\n",
       "    <tr style=\"text-align: right;\">\n",
       "      <th></th>\n",
       "      <th>city</th>\n",
       "      <th>streetAddress</th>\n",
       "      <th>zipcode</th>\n",
       "      <th>description</th>\n",
       "      <th>latitude</th>\n",
       "      <th>longitude</th>\n",
       "      <th>propertyTaxRate</th>\n",
       "      <th>hasAssociation</th>\n",
       "      <th>homeType</th>\n",
       "      <th>yearBuilt</th>\n",
       "      <th>latestPrice</th>\n",
       "      <th>numPriceChanges</th>\n",
       "      <th>latest_saledate</th>\n",
       "      <th>latest_salemonth</th>\n",
       "      <th>latest_saleyear</th>\n",
       "      <th>latestPriceSource</th>\n",
       "      <th>lotSizeSqFt</th>\n",
       "      <th>livingAreaSqFt</th>\n",
       "      <th>Association</th>\n",
       "    </tr>\n",
       "  </thead>\n",
       "  <tbody>\n",
       "    <tr>\n",
       "      <th>1868</th>\n",
       "      <td>austin</td>\n",
       "      <td>11102 Bending Bough Trl</td>\n",
       "      <td>78758</td>\n",
       "      <td>One story in highly sought after Quail Hollow!...</td>\n",
       "      <td>30.385311</td>\n",
       "      <td>-97.699959</td>\n",
       "      <td>1.98</td>\n",
       "      <td>False</td>\n",
       "      <td>Single Family</td>\n",
       "      <td>1978</td>\n",
       "      <td>459225.0</td>\n",
       "      <td>8</td>\n",
       "      <td>2020-06-04</td>\n",
       "      <td>6</td>\n",
       "      <td>2020</td>\n",
       "      <td>Agent Provided</td>\n",
       "      <td>10306.0</td>\n",
       "      <td>2100.0</td>\n",
       "      <td>0</td>\n",
       "    </tr>\n",
       "    <tr>\n",
       "      <th>13229</th>\n",
       "      <td>austin</td>\n",
       "      <td>11101 Cusseta Ln</td>\n",
       "      <td>78739</td>\n",
       "      <td>Former model home for DR Horton, \\r\\nDramatic ...</td>\n",
       "      <td>30.190371</td>\n",
       "      <td>-97.905396</td>\n",
       "      <td>1.98</td>\n",
       "      <td>True</td>\n",
       "      <td>Single Family</td>\n",
       "      <td>2002</td>\n",
       "      <td>479900.0</td>\n",
       "      <td>9</td>\n",
       "      <td>2019-10-23</td>\n",
       "      <td>10</td>\n",
       "      <td>2019</td>\n",
       "      <td>Agent Provided</td>\n",
       "      <td>13503.6</td>\n",
       "      <td>4237.0</td>\n",
       "      <td>1</td>\n",
       "    </tr>\n",
       "    <tr>\n",
       "      <th>6509</th>\n",
       "      <td>austin</td>\n",
       "      <td>9305 Lightwood Loop</td>\n",
       "      <td>78748</td>\n",
       "      <td>Lovely 4 bedroom 2 bath single story home in C...</td>\n",
       "      <td>30.189196</td>\n",
       "      <td>-97.841728</td>\n",
       "      <td>1.98</td>\n",
       "      <td>True</td>\n",
       "      <td>Single Family</td>\n",
       "      <td>1993</td>\n",
       "      <td>425000.0</td>\n",
       "      <td>1</td>\n",
       "      <td>2020-05-29</td>\n",
       "      <td>5</td>\n",
       "      <td>2020</td>\n",
       "      <td>Broker Provided</td>\n",
       "      <td>8319.0</td>\n",
       "      <td>2170.0</td>\n",
       "      <td>1</td>\n",
       "    </tr>\n",
       "    <tr>\n",
       "      <th>11033</th>\n",
       "      <td>austin</td>\n",
       "      <td>11908 Lansdowne Rd</td>\n",
       "      <td>78754</td>\n",
       "      <td>Charming one story with open floor plan. Forma...</td>\n",
       "      <td>30.357208</td>\n",
       "      <td>-97.610085</td>\n",
       "      <td>1.98</td>\n",
       "      <td>True</td>\n",
       "      <td>Single Family</td>\n",
       "      <td>2007</td>\n",
       "      <td>235000.0</td>\n",
       "      <td>3</td>\n",
       "      <td>2019-09-04</td>\n",
       "      <td>9</td>\n",
       "      <td>2019</td>\n",
       "      <td>Agent Provided</td>\n",
       "      <td>7884.0</td>\n",
       "      <td>1858.0</td>\n",
       "      <td>1</td>\n",
       "    </tr>\n",
       "    <tr>\n",
       "      <th>13192</th>\n",
       "      <td>austin</td>\n",
       "      <td>5412 Korth Dr</td>\n",
       "      <td>78749</td>\n",
       "      <td>Single story home in Village at Western Oaks. ...</td>\n",
       "      <td>30.204681</td>\n",
       "      <td>-97.869492</td>\n",
       "      <td>1.98</td>\n",
       "      <td>True</td>\n",
       "      <td>Single Family</td>\n",
       "      <td>2001</td>\n",
       "      <td>405000.0</td>\n",
       "      <td>1</td>\n",
       "      <td>2018-05-29</td>\n",
       "      <td>5</td>\n",
       "      <td>2018</td>\n",
       "      <td>Agent Provided</td>\n",
       "      <td>7187.0</td>\n",
       "      <td>1902.0</td>\n",
       "      <td>1</td>\n",
       "    </tr>\n",
       "  </tbody>\n",
       "</table>\n",
       "</div>"
      ],
      "text/plain": [
       "         city            streetAddress  zipcode  \\\n",
       "1868   austin  11102 Bending Bough Trl    78758   \n",
       "13229  austin         11101 Cusseta Ln    78739   \n",
       "6509   austin      9305 Lightwood Loop    78748   \n",
       "11033  austin       11908 Lansdowne Rd    78754   \n",
       "13192  austin            5412 Korth Dr    78749   \n",
       "\n",
       "                                             description   latitude  \\\n",
       "1868   One story in highly sought after Quail Hollow!...  30.385311   \n",
       "13229  Former model home for DR Horton, \\r\\nDramatic ...  30.190371   \n",
       "6509   Lovely 4 bedroom 2 bath single story home in C...  30.189196   \n",
       "11033  Charming one story with open floor plan. Forma...  30.357208   \n",
       "13192  Single story home in Village at Western Oaks. ...  30.204681   \n",
       "\n",
       "       longitude  propertyTaxRate  hasAssociation       homeType  yearBuilt  \\\n",
       "1868  -97.699959             1.98           False  Single Family       1978   \n",
       "13229 -97.905396             1.98            True  Single Family       2002   \n",
       "6509  -97.841728             1.98            True  Single Family       1993   \n",
       "11033 -97.610085             1.98            True  Single Family       2007   \n",
       "13192 -97.869492             1.98            True  Single Family       2001   \n",
       "\n",
       "       latestPrice  numPriceChanges latest_saledate  latest_salemonth  \\\n",
       "1868      459225.0                8      2020-06-04                 6   \n",
       "13229     479900.0                9      2019-10-23                10   \n",
       "6509      425000.0                1      2020-05-29                 5   \n",
       "11033     235000.0                3      2019-09-04                 9   \n",
       "13192     405000.0                1      2018-05-29                 5   \n",
       "\n",
       "       latest_saleyear latestPriceSource  lotSizeSqFt  livingAreaSqFt  \\\n",
       "1868              2020    Agent Provided      10306.0          2100.0   \n",
       "13229             2019    Agent Provided      13503.6          4237.0   \n",
       "6509              2020   Broker Provided       8319.0          2170.0   \n",
       "11033             2019    Agent Provided       7884.0          1858.0   \n",
       "13192             2018    Agent Provided       7187.0          1902.0   \n",
       "\n",
       "       Association  \n",
       "1868             0  \n",
       "13229            1  \n",
       "6509             1  \n",
       "11033            1  \n",
       "13192            1  "
      ]
     },
     "execution_count": 29,
     "metadata": {},
     "output_type": "execute_result"
    }
   ],
   "source": [
    "#encoding home association to numbers 1= True, 0 = False\n",
    "to_num = {True:1,False:0}\n",
    "housing_df[\"Association\"] = housing_df[\"hasAssociation\"].apply(lambda x: to_num[x])\n",
    "housing_df.sample(5)"
   ]
  },
  {
   "cell_type": "code",
   "execution_count": 50,
   "id": "05ea6b94",
   "metadata": {},
   "outputs": [
    {
     "data": {
      "text/plain": [
       "1    8007\n",
       "0    7164\n",
       "Name: Association, dtype: int64"
      ]
     },
     "execution_count": 50,
     "metadata": {},
     "output_type": "execute_result"
    }
   ],
   "source": [
    "housing_df[\"Association\"].value_counts()"
   ]
  },
  {
   "cell_type": "code",
   "execution_count": 30,
   "id": "b111b9d2",
   "metadata": {},
   "outputs": [],
   "source": [
    "svm_merge = pd.merge(housing_df[['latestPrice','propertyTaxRate','zipcode'\n",
    "                                 ,'Association']], group_df2[[\n",
    "    'Incident_Number','hour']], on ='zipcode',how = 'left')"
   ]
  },
  {
   "cell_type": "code",
   "execution_count": 31,
   "id": "1d38ec76",
   "metadata": {},
   "outputs": [],
   "source": [
    "svm_merge = svm_merge.rename(columns={\"Incident_Number\": \"Count_Crimes\"})"
   ]
  },
  {
   "cell_type": "code",
   "execution_count": 32,
   "id": "81759384",
   "metadata": {},
   "outputs": [
    {
     "data": {
      "text/plain": [
       "latestPrice         0\n",
       "propertyTaxRate     0\n",
       "zipcode             0\n",
       "Association         0\n",
       "Count_Crimes       12\n",
       "hour               12\n",
       "dtype: int64"
      ]
     },
     "execution_count": 32,
     "metadata": {},
     "output_type": "execute_result"
    }
   ],
   "source": [
    "svm_merge.isnull().sum(axis = 0)"
   ]
  },
  {
   "cell_type": "code",
   "execution_count": 33,
   "id": "b7f15709",
   "metadata": {},
   "outputs": [],
   "source": [
    "svm_merge[[\"Count_Crimes\",\"hour\"]] = new_merge[[\"Count_Crimes\",\"hour\"]].fillna(0)"
   ]
  },
  {
   "cell_type": "code",
   "execution_count": 34,
   "id": "970b0860",
   "metadata": {},
   "outputs": [],
   "source": [
    "from sklearn.svm import SVC\n",
    "from sklearn.model_selection import train_test_split"
   ]
  },
  {
   "cell_type": "code",
   "execution_count": 35,
   "id": "25eca86e",
   "metadata": {},
   "outputs": [],
   "source": [
    "X = svm_merge[[\"Count_Crimes\"]]\n",
    "y = svm_merge[[\"Association\"]]\n",
    "X_train, X_test, y_train, y_test = train_test_split(\n",
    "    X, y, stratify = y, random_state=42)"
   ]
  },
  {
   "cell_type": "code",
   "execution_count": 36,
   "id": "a8d38946",
   "metadata": {},
   "outputs": [
    {
     "name": "stderr",
     "output_type": "stream",
     "text": [
      "/Users/kellykindla/opt/anaconda3/lib/python3.8/site-packages/sklearn/utils/validation.py:63: DataConversionWarning: A column-vector y was passed when a 1d array was expected. Please change the shape of y to (n_samples, ), for example using ravel().\n",
      "  return f(*args, **kwargs)\n"
     ]
    },
    {
     "data": {
      "text/plain": [
       "SVC(kernel='linear')"
      ]
     },
     "execution_count": 36,
     "metadata": {},
     "output_type": "execute_result"
    }
   ],
   "source": [
    "model = SVC(kernel = 'linear')\n",
    "model.fit(X_train, y_train)"
   ]
  },
  {
   "cell_type": "code",
   "execution_count": 37,
   "id": "0d2939aa",
   "metadata": {},
   "outputs": [],
   "source": [
    "y_pred = model.predict(X_test)"
   ]
  },
  {
   "cell_type": "code",
   "execution_count": 43,
   "id": "96d62cd4",
   "metadata": {},
   "outputs": [
    {
     "data": {
      "text/plain": [
       "0.5264961771684682"
      ]
     },
     "execution_count": 43,
     "metadata": {},
     "output_type": "execute_result"
    }
   ],
   "source": [
    "from sklearn.metrics import accuracy_score\n",
    "accuracy_score(y_test,y_pred)"
   ]
  },
  {
   "cell_type": "code",
   "execution_count": 44,
   "id": "62128cb0",
   "metadata": {},
   "outputs": [
    {
     "data": {
      "text/plain": [
       "array([[   0, 1791],\n",
       "       [   5, 1997]])"
      ]
     },
     "execution_count": 44,
     "metadata": {},
     "output_type": "execute_result"
    }
   ],
   "source": [
    "from sklearn.metrics import confusion_matrix\n",
    "confusion_matrix(y_test,y_pred)"
   ]
  },
  {
   "cell_type": "code",
   "execution_count": 42,
   "id": "07bc4575",
   "metadata": {},
   "outputs": [
    {
     "name": "stdout",
     "output_type": "stream",
     "text": [
      "              precision    recall  f1-score   support\n",
      "\n",
      "           0       0.00      0.00      0.00      1791\n",
      "           1       0.53      1.00      0.69      2002\n",
      "\n",
      "    accuracy                           0.53      3793\n",
      "   macro avg       0.26      0.50      0.34      3793\n",
      "weighted avg       0.28      0.53      0.36      3793\n",
      "\n"
     ]
    }
   ],
   "source": [
    "from sklearn.metrics import classification_report\n",
    "print(classification_report(y_test,y_pred))"
   ]
  },
  {
   "cell_type": "code",
   "execution_count": null,
   "id": "2f4f82a9",
   "metadata": {},
   "outputs": [],
   "source": []
  }
 ],
 "metadata": {
  "interpreter": {
   "hash": "fd763a098ed74b26fb54d2d4ddbf58343cd57368ad26feccf1d53a420650659f"
  },
  "kernelspec": {
   "display_name": "Python 3",
   "language": "python",
   "name": "python3"
  },
  "language_info": {
   "codemirror_mode": {
    "name": "ipython",
    "version": 3
   },
   "file_extension": ".py",
   "mimetype": "text/x-python",
   "name": "python",
   "nbconvert_exporter": "python",
   "pygments_lexer": "ipython3",
   "version": "3.8.8"
  }
 },
 "nbformat": 4,
 "nbformat_minor": 5
}
